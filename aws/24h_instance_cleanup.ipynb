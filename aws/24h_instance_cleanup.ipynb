{
 "cells": [
  {
   "cell_type": "code",
   "execution_count": 19,
   "id": "5960e30e-2482-438c-9bed-51bc33dfe36a",
   "metadata": {},
   "outputs": [],
   "source": [
    "import boto3\n",
    "from datetime import datetime, timedelta \n",
    "\n",
    "client = boto3.client('ec2')\n"
   ]
  },
  {
   "cell_type": "code",
   "execution_count": 20,
   "id": "c88adda2-7ad3-492f-ae2a-96286e98f56f",
   "metadata": {},
   "outputs": [],
   "source": [
    "instances = client.describe_instances()\n",
    "instances['Reservations']\n",
    "\n",
    "yesterday = (datetime.now() - timedelta(days=2)).timestamp()\n",
    "\n",
    "reservations = instances['Reservations']\n",
    "\n",
    "instances_over_48hours_old = list(\n",
    "    filter(lambda instance: instance['Instances'][0]['LaunchTime'].timestamp() < yesterday, reservations)\n",
    ")"
   ]
  },
  {
   "cell_type": "code",
   "execution_count": 21,
   "id": "457b1ff7-e9e1-4aec-9c70-ced3b321eddb",
   "metadata": {},
   "outputs": [
    {
     "name": "stdout",
     "output_type": "stream",
     "text": [
      "SAVE i-0bb1b86acf0dbfb26 - jupyter (unity|venue-dev)\n",
      "SAVE i-0fe982b45c0eff45a - defaultGroup (unity|dev)\n",
      "KILL i-053272eefc121963c - defaultGroup (ramesh-2|dev)\n",
      "SAVE i-0866cb5bfdbf78adc - Unity Management Console (ramesh-3/dev) (ramesh-3|dev)\n",
      "KILL i-0b5bad8bbb22f44b0 - ramesh-3-dev-sps-karpenter (ramesh-3|dev)\n",
      "SAVE i-0cf806754945857d6 - Unity Management Console (btl-dc6/dev) (btl-dc6|dev)\n",
      "SAVE i-02be479b5204c8b4d - unity-dev-sps-karpenter (unity|dev)\n",
      "SAVE i-0ee1f2dd75b0b15da - unity-dev-sps-karpenter (unity|dev)\n",
      "KILL i-0176693bd16a72214 - ramesh-3-dev-sps-karpenter (ramesh-3|dev)\n",
      "KILL i-0d75e4a3eba3999ae - ramesh-3-dev-sps-karpenter (ramesh-3|dev)\n",
      "SAVE i-07598f0de69d04498 - Unity Management Console (graceal-6/dev) (graceal-6|dev)\n",
      "KILL i-0540726b76a61e9ef - btl-dc8-dev-sps-karpenter (btl-dc8|dev)\n",
      "SAVE i-05dfbc59fc7ebbec5 - jupyter (unity|venue-dev)\n",
      "SAVE i-0db4a545e8a334023 - Unity Management Console (unity/dev) (unity|dev)\n",
      "SAVE i-019104bc5ee06b76e - unity-dev-sps-karpenter (unity|dev)\n",
      "KILL i-054791c0d8526887c - defaultGroup (ramesh-3|dev)\n",
      "SAVE i-015db2486b7decd67 - Unity Management Console (luca-1/dev) (luca-1|dev)\n",
      "SAVE i-0b251677e5e58c030 - Unity Management Console (anatha/dev) (anatha|dev)\n",
      "SAVE i-073a9f17094277671 - Unity Management Console (btl-dc8/dev) (btl-dc8|dev)\n",
      "SAVE i-010511b9a0f5bbb01 - Unity Management Console (gmanipon/dev) (gmanipon|dev)\n",
      "SAVE i-0fb14d92a3a730019 - Unity Management Console (unity-nikki-2/dev) (unity-nikki-2|dev)\n"
     ]
    }
   ],
   "source": [
    "save_list = []\n",
    "kill_list = []\n",
    "\n",
    "for ins in instances_over_48hours_old:\n",
    "    instance_name = None\n",
    "    instance_venue = None\n",
    "    instance_project = None\n",
    "    \n",
    "    for k in ins['Instances'][0]['Tags']:\n",
    "        if k['Key'] == 'Name':\n",
    "          instance_name = k['Value']\n",
    "        if k['Key'] == 'Venue':\n",
    "           instance_venue = k['Value'] \n",
    "        if k['Key'] == 'Proj':\n",
    "           instance_project = k['Value'] \n",
    "    if instance_project in ['unity'] and instance_venue in ['venue-dev', 'dev']:\n",
    "        save_list.append(ins['Instances'][0]['InstanceId'])\n",
    "        print (\"SAVE {} - {} ({}|{})\".format(ins['Instances'][0]['InstanceId'], instance_name, instance_project, instance_venue))\n",
    "    elif \"Management Console\" in instance_name:\n",
    "        save_list.append(ins['Instances'][0]['InstanceId'])\n",
    "        print (\"SAVE {} - {} ({}|{})\".format(ins['Instances'][0]['InstanceId'], instance_name, instance_project, instance_venue))\n",
    "    else:\n",
    "        kill_list.append(ins['Instances'][0]['InstanceId'])\n",
    "        print (\"KILL {} - {} ({}|{})\".format(ins['Instances'][0]['InstanceId'], instance_name, instance_project, instance_venue))"
   ]
  },
  {
   "cell_type": "code",
   "execution_count": 22,
   "id": "40586501-e75c-4a00-9a1d-2bfa94092978",
   "metadata": {},
   "outputs": [
    {
     "data": {
      "text/plain": [
       "['i-053272eefc121963c',\n",
       " 'i-0b5bad8bbb22f44b0',\n",
       " 'i-0176693bd16a72214',\n",
       " 'i-0d75e4a3eba3999ae',\n",
       " 'i-0540726b76a61e9ef',\n",
       " 'i-054791c0d8526887c']"
      ]
     },
     "execution_count": 22,
     "metadata": {},
     "output_type": "execute_result"
    }
   ],
   "source": [
    "kill_list"
   ]
  },
  {
   "cell_type": "code",
   "execution_count": 23,
   "id": "90a9d54b-1a59-4372-b6dc-74950e7be009",
   "metadata": {},
   "outputs": [
    {
     "data": {
      "text/plain": [
       "['i-0bb1b86acf0dbfb26',\n",
       " 'i-0fe982b45c0eff45a',\n",
       " 'i-0866cb5bfdbf78adc',\n",
       " 'i-0cf806754945857d6',\n",
       " 'i-02be479b5204c8b4d',\n",
       " 'i-0ee1f2dd75b0b15da',\n",
       " 'i-07598f0de69d04498',\n",
       " 'i-05dfbc59fc7ebbec5',\n",
       " 'i-0db4a545e8a334023',\n",
       " 'i-019104bc5ee06b76e',\n",
       " 'i-015db2486b7decd67',\n",
       " 'i-0b251677e5e58c030',\n",
       " 'i-073a9f17094277671',\n",
       " 'i-010511b9a0f5bbb01',\n",
       " 'i-0fb14d92a3a730019']"
      ]
     },
     "execution_count": 23,
     "metadata": {},
     "output_type": "execute_result"
    }
   ],
   "source": [
    "save_list"
   ]
  },
  {
   "cell_type": "code",
   "execution_count": 24,
   "id": "65d94ba3-3e35-4fd0-b8c4-988143ff4246",
   "metadata": {},
   "outputs": [],
   "source": [
    "as_client = boto3.client('autoscaling')\n"
   ]
  },
  {
   "cell_type": "code",
   "execution_count": 25,
   "id": "896f2d25-b230-43c8-9180-97ef821c30fa",
   "metadata": {},
   "outputs": [],
   "source": [
    "as_groups = as_client.describe_auto_scaling_instances(InstanceIds=kill_list)"
   ]
  },
  {
   "cell_type": "code",
   "execution_count": 26,
   "id": "a7a58173-3a47-4207-b660-93dd2dfba8c6",
   "metadata": {},
   "outputs": [],
   "source": [
    "asgs_set = set()\n",
    "asgs_instance_list = []\n",
    "asgs_kill_follow_up_list = []\n",
    "for as_instance in as_groups['AutoScalingInstances']:\n",
    "    if \"eks\" in as_instance['AutoScalingGroupName']:\n",
    "        asgs_set.add(as_instance['AutoScalingGroupName'])\n",
    "        asgs_kill_follow_up_list.append(as_instance['InstanceId'])\n",
    "    asgs_instance_list.append(as_instance['InstanceId'])"
   ]
  },
  {
   "cell_type": "code",
   "execution_count": 27,
   "id": "31ec87cd-cbce-47a1-b3a2-611f2f763d18",
   "metadata": {},
   "outputs": [
    {
     "data": {
      "text/plain": [
       "set()"
      ]
     },
     "execution_count": 27,
     "metadata": {},
     "output_type": "execute_result"
    }
   ],
   "source": [
    "asgs_set"
   ]
  },
  {
   "cell_type": "code",
   "execution_count": 28,
   "id": "8bb775cf-25be-488f-973e-ef7b9febb167",
   "metadata": {},
   "outputs": [],
   "source": [
    "for asg_name in asgs_set:\n",
    "\n",
    "    as_client.update_auto_scaling_group(\n",
    "        AutoScalingGroupName=asg_name,\n",
    "        MinSize=0,\n",
    "        MaxSize=0\n",
    "    )\n",
    "    \n",
    "    as_client.set_desired_capacity(\n",
    "        AutoScalingGroupName=asg_name,\n",
    "        DesiredCapacity=0,\n",
    "        HonorCooldown=False\n",
    "    )\n"
   ]
  },
  {
   "cell_type": "code",
   "execution_count": 29,
   "id": "48f54f02-2bed-4b21-ad8d-90d946b47512",
   "metadata": {},
   "outputs": [
    {
     "data": {
      "text/plain": [
       "[]"
      ]
     },
     "execution_count": 29,
     "metadata": {},
     "output_type": "execute_result"
    }
   ],
   "source": [
    "# Get the list of instances older than 48h but _not_ in the autoscaling groups\n",
    "asgs_instance_list"
   ]
  },
  {
   "cell_type": "code",
   "execution_count": 30,
   "id": "685ea06a-03c5-444e-a010-42852070463c",
   "metadata": {},
   "outputs": [],
   "source": [
    "kill_instance_list_not_in_auto_scaling_group = list(set(kill_list) - set(asgs_instance_list))"
   ]
  },
  {
   "cell_type": "code",
   "execution_count": 31,
   "id": "bda1f3dc-db42-48b9-9ba4-724ef5ef7f76",
   "metadata": {},
   "outputs": [
    {
     "data": {
      "text/plain": [
       "['i-0d75e4a3eba3999ae',\n",
       " 'i-053272eefc121963c',\n",
       " 'i-0176693bd16a72214',\n",
       " 'i-0540726b76a61e9ef',\n",
       " 'i-054791c0d8526887c',\n",
       " 'i-0b5bad8bbb22f44b0']"
      ]
     },
     "execution_count": 31,
     "metadata": {},
     "output_type": "execute_result"
    }
   ],
   "source": [
    "kill_instance_list_not_in_auto_scaling_group"
   ]
  },
  {
   "cell_type": "code",
   "execution_count": 32,
   "id": "a542682e-2332-4188-8cf3-d3cd8b94349f",
   "metadata": {},
   "outputs": [
    {
     "data": {
      "text/plain": [
       "{'TerminatingInstances': [{'InstanceId': 'i-054791c0d8526887c',\n",
       "   'CurrentState': {'Code': 48, 'Name': 'terminated'},\n",
       "   'PreviousState': {'Code': 48, 'Name': 'terminated'}},\n",
       "  {'InstanceId': 'i-0b5bad8bbb22f44b0',\n",
       "   'CurrentState': {'Code': 32, 'Name': 'shutting-down'},\n",
       "   'PreviousState': {'Code': 16, 'Name': 'running'}},\n",
       "  {'InstanceId': 'i-053272eefc121963c',\n",
       "   'CurrentState': {'Code': 48, 'Name': 'terminated'},\n",
       "   'PreviousState': {'Code': 48, 'Name': 'terminated'}},\n",
       "  {'InstanceId': 'i-0540726b76a61e9ef',\n",
       "   'CurrentState': {'Code': 32, 'Name': 'shutting-down'},\n",
       "   'PreviousState': {'Code': 16, 'Name': 'running'}},\n",
       "  {'InstanceId': 'i-0176693bd16a72214',\n",
       "   'CurrentState': {'Code': 32, 'Name': 'shutting-down'},\n",
       "   'PreviousState': {'Code': 16, 'Name': 'running'}},\n",
       "  {'InstanceId': 'i-0d75e4a3eba3999ae',\n",
       "   'CurrentState': {'Code': 32, 'Name': 'shutting-down'},\n",
       "   'PreviousState': {'Code': 16, 'Name': 'running'}}],\n",
       " 'ResponseMetadata': {'RequestId': '0670dd5e-6d10-43d8-83ed-c44f5767e4e2',\n",
       "  'HTTPStatusCode': 200,\n",
       "  'HTTPHeaders': {'x-amzn-requestid': '0670dd5e-6d10-43d8-83ed-c44f5767e4e2',\n",
       "   'cache-control': 'no-cache, no-store',\n",
       "   'strict-transport-security': 'max-age=31536000; includeSubDomains',\n",
       "   'content-type': 'text/xml;charset=UTF-8',\n",
       "   'content-length': '1391',\n",
       "   'date': 'Mon, 12 May 2025 22:02:20 GMT',\n",
       "   'server': 'AmazonEC2'},\n",
       "  'RetryAttempts': 0}}"
      ]
     },
     "execution_count": 32,
     "metadata": {},
     "output_type": "execute_result"
    }
   ],
   "source": [
    "# Kill the autoscaling group nodes if they aren't killed yet\n",
    "# This will kill any instances older than 48 hours but not in the asg_instance_lists\n",
    "client.terminate_instances(\n",
    "    InstanceIds=kill_instance_list_not_in_auto_scaling_group,\n",
    "    DryRun = False\n",
    ")"
   ]
  },
  {
   "cell_type": "code",
   "execution_count": 14,
   "id": "a4c81b92-cf12-444a-9e0d-757d255c33e3",
   "metadata": {},
   "outputs": [],
   "source": [
    "# Check for the existence of 'aws:eks:cluster-name' tag in the instance to see\n",
    "# if this is a karpenter node managed through EKS. If so, what do we do there? \n",
    "# Could sleep a while for the karpenter nodes to die and then shut these down.\n",
    "# Better steps would be to remove the airflow deployment from \n",
    "\n",
    "import time\n",
    "time.sleep(180) # 3 minutes"
   ]
  },
  {
   "cell_type": "code",
   "execution_count": 16,
   "id": "ffd15a7f-4126-4fbf-8139-bc61c0447497",
   "metadata": {},
   "outputs": [
    {
     "data": {
      "text/plain": [
       "['i-053272eefc121963c', 'i-054791c0d8526887c']"
      ]
     },
     "execution_count": 16,
     "metadata": {},
     "output_type": "execute_result"
    }
   ],
   "source": [
    "asgs_kill_follow_up_list"
   ]
  },
  {
   "cell_type": "code",
   "execution_count": 17,
   "id": "da00c689-a8d6-4491-8bc1-dcf579639d41",
   "metadata": {},
   "outputs": [
    {
     "data": {
      "text/plain": [
       "{'TerminatingInstances': [{'InstanceId': 'i-054791c0d8526887c',\n",
       "   'CurrentState': {'Code': 32, 'Name': 'shutting-down'},\n",
       "   'PreviousState': {'Code': 16, 'Name': 'running'}},\n",
       "  {'InstanceId': 'i-053272eefc121963c',\n",
       "   'CurrentState': {'Code': 32, 'Name': 'shutting-down'},\n",
       "   'PreviousState': {'Code': 16, 'Name': 'running'}}],\n",
       " 'ResponseMetadata': {'RequestId': '4ead7f8b-38ee-41b4-b756-ae0b929a6108',\n",
       "  'HTTPStatusCode': 200,\n",
       "  'HTTPHeaders': {'x-amzn-requestid': '4ead7f8b-38ee-41b4-b756-ae0b929a6108',\n",
       "   'cache-control': 'no-cache, no-store',\n",
       "   'strict-transport-security': 'max-age=31536000; includeSubDomains',\n",
       "   'content-type': 'text/xml;charset=UTF-8',\n",
       "   'content-length': '619',\n",
       "   'date': 'Mon, 12 May 2025 21:53:37 GMT',\n",
       "   'server': 'AmazonEC2'},\n",
       "  'RetryAttempts': 0}}"
      ]
     },
     "execution_count": 17,
     "metadata": {},
     "output_type": "execute_result"
    }
   ],
   "source": [
    "\n",
    "client.terminate_instances(\n",
    "    InstanceIds=asgs_kill_follow_up_list,\n",
    "    DryRun = False\n",
    ")"
   ]
  },
  {
   "cell_type": "code",
   "execution_count": null,
   "id": "33e6af53-8fdb-465d-b484-804c2df50463",
   "metadata": {},
   "outputs": [],
   "source": []
  }
 ],
 "metadata": {
  "kernelspec": {
   "display_name": "Python 3 (ipykernel)",
   "language": "python",
   "name": "python3"
  },
  "language_info": {
   "codemirror_mode": {
    "name": "ipython",
    "version": 3
   },
   "file_extension": ".py",
   "mimetype": "text/x-python",
   "name": "python",
   "nbconvert_exporter": "python",
   "pygments_lexer": "ipython3",
   "version": "3.10.8"
  }
 },
 "nbformat": 4,
 "nbformat_minor": 5
}
